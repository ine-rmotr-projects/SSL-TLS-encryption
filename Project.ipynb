{
 "cells": [
  {
   "cell_type": "markdown",
   "metadata": {},
   "source": [
    "![ine-divider](https://user-images.githubusercontent.com/7065401/92672068-398e8080-f2ee-11ea-82d6-ad53f7feb5c0.png)\n",
    "<hr>\n",
    "\n",
    "### Secure RESTful APIs using Python\n",
    "\n",
    "# SSL/TLS encryption\n",
    "\n",
    "This project consists of creating secured connections between a service and a consumer."
   ]
  },
  {
   "cell_type": "markdown",
   "metadata": {},
   "source": [
    "![orange-divider](https://user-images.githubusercontent.com/7065401/92672455-187a5f80-f2ef-11ea-890c-40be9474f7b7.png)"
   ]
  },
  {
   "cell_type": "markdown",
   "metadata": {},
   "source": [
    "## Part 1\n",
    "\n",
    "**Generating unsigned keys**\n",
    "\n",
    "For this task, you simply need to generate PEM keys as was shown in the lesson, and create a web service simlar to the one in the lesson.  A \"hello world\" response at any particular route is adequate for this server.  Once you can communicate with your service using an `https://...` URL, you have completed the task.\n",
    "\n",
    "If you are on a Linux system, installing OpenSSL is straightforward using the package manager you are accustomed to.  On Mac OSX, the (Homebrew installer)[https://brew.sh/] provides similar capabilities to `apt-get`, `dnf`, or `zypper`.  On Windows installation is more difficult, but some binaries have been packaged at https://wiki.openssl.org/index.php/Binaries.  Building from source code on Windows is more secure, if you are able to (it's not difficult, but you will need a compiler toolchain).\n",
    "\n",
    "Once you have installed OpenSSL and generated keys—e.g. `student-private.pem` and `student-public.pem`—create a small server that will correctly respond to:\n",
    "\n",
    "```python\n",
    "import requests\n",
    "resp = requests.get(\"https://localhost:5000/hello\", verify='student-public.pem')\n",
    "assert resp.status_code == 200\n",
    "```"
   ]
  },
  {
   "cell_type": "markdown",
   "metadata": {},
   "source": [
    "![orange-divider](https://user-images.githubusercontent.com/7065401/92672455-187a5f80-f2ef-11ea-890c-40be9474f7b7.png)\n",
    "\n",
    "## Part 2\n",
    "\n",
    "**Obtain Certificate Authority signed keys**\n",
    "\n",
    "For long term use, obtaining private/public key pairs from a signed authority is good practice.  If you are able to, for this task generate CA signed keys and install them on the domain they are signed for.\n",
    "\n",
    "A list of Certificate Authorities can be found on Wikipedia: https://en.wikipedia.org/wiki/Certificate_authority  The non-profit [Let's Encrypt](https://letsencrypt.org/) provides certificates free-of-cost, and has tools for automatic generation of certificates.  The exact procedure you will use will vary between CAs.\n",
    "\n",
    "If you succeed in this task, you will be able to connect to the \"Hello world\" service in the first task without seeing a warning or needing to run:\n",
    "\n",
    "```python\n",
    "requests.packages.urllib3.disable_warnings()\n",
    "```"
   ]
  },
  {
   "cell_type": "markdown",
   "metadata": {},
   "source": [
    "![orange-divider](https://user-images.githubusercontent.com/7065401/92672455-187a5f80-f2ef-11ea-890c-40be9474f7b7.png)"
   ]
  }
 ],
 "metadata": {
  "kernelspec": {
   "display_name": "Python 3",
   "language": "python",
   "name": "python3"
  },
  "language_info": {
   "codemirror_mode": {
    "name": "ipython",
    "version": 3
   },
   "file_extension": ".py",
   "mimetype": "text/x-python",
   "name": "python",
   "nbconvert_exporter": "python",
   "pygments_lexer": "ipython3",
   "version": "3.8.2"
  }
 },
 "nbformat": 4,
 "nbformat_minor": 4
}
